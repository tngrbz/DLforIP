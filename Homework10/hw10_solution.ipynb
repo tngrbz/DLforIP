{
 "cells": [
  {
   "cell_type": "code",
   "execution_count": 37,
   "metadata": {},
   "outputs": [],
   "source": [
    "import numpy as np\n",
    "import matplotlib.pyplot as plt\n",
    "from tqdm import tqdm"
   ]
  },
  {
   "cell_type": "code",
   "execution_count": 66,
   "metadata": {},
   "outputs": [],
   "source": [
    "sigma1 = 1/500\n",
    "A = np.random.rand(500,2000)*sigma1\n",
    "sigma2 = 1/50\n",
    "x_star = np.random.rand(2000,1)*sigma2\n",
    "# it has to be 50-sparse\n",
    "mask1 = np.random.randint(0,2000,50)\n",
    "x_star[mask1,:] = 0\n",
    "sigma3 = 0.5/500\n",
    "e = np.random.rand(500,1)*sigma3\n",
    "y = A@x_star + e\n",
    "lambda_reg = np.arange(0,5,0.05)\n",
    "mse_list = []"
   ]
  },
  {
   "cell_type": "code",
   "execution_count": 56,
   "metadata": {},
   "outputs": [
    {
     "data": {
      "text/plain": [
       "(500, 1)"
      ]
     },
     "execution_count": 56,
     "metadata": {},
     "output_type": "execute_result"
    }
   ],
   "source": [
    "x_star.shape\n",
    "e.shape\n",
    "y.shape"
   ]
  },
  {
   "cell_type": "code",
   "execution_count": 57,
   "metadata": {},
   "outputs": [],
   "source": [
    "for lmb in lambda_reg:\n",
    "    x_hat = (A.T@A + lmb*np.eye(2000))@A.T@y\n",
    "    mse = np.mean((x_star-x_hat)**2)\n",
    "    mse_list.append(mse)"
   ]
  },
  {
   "cell_type": "code",
   "execution_count": 58,
   "metadata": {},
   "outputs": [
    {
     "data": {
      "text/plain": [
       "[<matplotlib.lines.Line2D at 0x21d41098990>]"
      ]
     },
     "execution_count": 58,
     "metadata": {},
     "output_type": "execute_result"
    },
    {
     "data": {
      "image/png": "[encoded data removed]",
      "text/plain": [
       "<Figure size 640x480 with 1 Axes>"
      ]
     },
     "metadata": {},
     "output_type": "display_data"
    }
   ],
   "source": [
    "plt.plot(lambda_reg,mse_list)"
   ]
  },
  {
   "cell_type": "code",
   "execution_count": 59,
   "metadata": {},
   "outputs": [],
   "source": [
    "#derivative of function f\n",
    "def delta_f(x):\n",
    "    return A.T@(A@x-y)\n",
    "\n",
    "#Soft Thresholding Operator\n",
    "def STO(x,lamda,alpha):\n",
    "    c=lamda*alpha\n",
    "    x[(x>=-c)&(x<=c)]=0\n",
    "    x[x<-c]+=c\n",
    "    x[x>c]-=c\n",
    "    return x"
   ]
  },
  {
   "cell_type": "code",
   "execution_count": 67,
   "metadata": {},
   "outputs": [
    {
     "name": "stderr",
     "output_type": "stream",
     "text": [
      "100%|██████████| 100/100 [00:00<00:00, 500.23it/s]\n",
      "100%|██████████| 100/100 [00:00<00:00, 753.90it/s]\n",
      "100%|██████████| 100/100 [00:00<00:00, 640.00it/s]\n",
      "100%|██████████| 100/100 [00:00<00:00, 464.60it/s]\n",
      "100%|██████████| 100/100 [00:00<00:00, 850.48it/s]\n",
      "100%|██████████| 100/100 [00:00<00:00, 834.53it/s]\n",
      "100%|██████████| 100/100 [00:00<00:00, 847.34it/s]\n",
      "100%|██████████| 100/100 [00:00<00:00, 795.92it/s]\n",
      "100%|██████████| 100/100 [00:00<00:00, 809.36it/s]\n",
      "100%|██████████| 100/100 [00:00<00:00, 814.91it/s]\n",
      "100%|██████████| 100/100 [00:00<00:00, 736.80it/s]\n",
      "100%|██████████| 100/100 [00:00<00:00, 870.34it/s]\n",
      "100%|██████████| 100/100 [00:00<00:00, 839.77it/s]\n",
      "100%|██████████| 100/100 [00:00<00:00, 564.62it/s]\n",
      "100%|██████████| 100/100 [00:00<00:00, 829.37it/s]\n",
      "100%|██████████| 100/100 [00:00<00:00, 832.43it/s]\n",
      "100%|██████████| 100/100 [00:00<00:00, 889.71it/s]\n",
      "100%|██████████| 100/100 [00:00<00:00, 754.20it/s]\n",
      "100%|██████████| 100/100 [00:00<00:00, 762.57it/s]\n",
      "100%|██████████| 100/100 [00:00<00:00, 836.34it/s]\n",
      "100%|██████████| 100/100 [00:00<00:00, 864.53it/s]\n",
      "100%|██████████| 100/100 [00:00<00:00, 789.40it/s]\n",
      "100%|██████████| 100/100 [00:00<00:00, 937.72it/s]\n",
      "100%|██████████| 100/100 [00:00<00:00, 836.33it/s]\n",
      "100%|██████████| 100/100 [00:00<00:00, 832.88it/s]\n",
      "100%|██████████| 100/100 [00:00<00:00, 841.80it/s]\n",
      "100%|██████████| 100/100 [00:00<00:00, 712.39it/s]\n",
      "100%|██████████| 100/100 [00:00<00:00, 842.52it/s]\n",
      "100%|██████████| 100/100 [00:00<00:00, 900.05it/s]\n",
      "100%|██████████| 100/100 [00:00<00:00, 831.93it/s]\n",
      "100%|██████████| 100/100 [00:00<00:00, 814.21it/s]\n",
      "100%|██████████| 100/100 [00:00<00:00, 775.54it/s]\n",
      "100%|██████████| 100/100 [00:00<00:00, 571.23it/s]\n",
      "100%|██████████| 100/100 [00:00<00:00, 731.27it/s]\n",
      "100%|██████████| 100/100 [00:00<00:00, 824.88it/s]\n",
      "100%|██████████| 100/100 [00:00<00:00, 859.98it/s]\n",
      "100%|██████████| 100/100 [00:00<00:00, 835.36it/s]\n",
      "100%|██████████| 100/100 [00:00<00:00, 837.97it/s]\n",
      "100%|██████████| 100/100 [00:00<00:00, 907.57it/s]\n",
      "100%|██████████| 100/100 [00:00<00:00, 835.02it/s]\n",
      "100%|██████████| 100/100 [00:00<00:00, 845.01it/s]\n",
      "100%|██████████| 100/100 [00:00<00:00, 849.07it/s]\n",
      "100%|██████████| 100/100 [00:00<00:00, 897.40it/s]\n",
      "100%|██████████| 100/100 [00:00<00:00, 770.82it/s]\n",
      "100%|██████████| 100/100 [00:00<00:00, 854.09it/s]\n",
      "100%|██████████| 100/100 [00:00<00:00, 846.60it/s]\n",
      "100%|██████████| 100/100 [00:00<00:00, 810.57it/s]\n",
      "100%|██████████| 100/100 [00:00<00:00, 837.16it/s]\n",
      "100%|██████████| 100/100 [00:00<00:00, 857.11it/s]\n",
      "100%|██████████| 100/100 [00:00<00:00, 889.54it/s]\n",
      "100%|██████████| 100/100 [00:00<00:00, 821.56it/s]\n",
      "100%|██████████| 100/100 [00:00<00:00, 537.57it/s]\n",
      "100%|██████████| 100/100 [00:00<00:00, 823.37it/s]\n",
      "100%|██████████| 100/100 [00:00<00:00, 895.54it/s]\n",
      "100%|██████████| 100/100 [00:00<00:00, 835.25it/s]\n",
      "100%|██████████| 100/100 [00:00<00:00, 803.27it/s]\n",
      "100%|██████████| 100/100 [00:00<00:00, 849.98it/s]\n",
      "100%|██████████| 100/100 [00:00<00:00, 832.80it/s]\n",
      "100%|██████████| 100/100 [00:00<00:00, 820.15it/s]\n",
      "100%|██████████| 100/100 [00:00<00:00, 945.49it/s]\n",
      "100%|██████████| 100/100 [00:00<00:00, 725.86it/s]\n",
      "100%|██████████| 100/100 [00:00<00:00, 900.17it/s]\n",
      "100%|██████████| 100/100 [00:00<00:00, 747.05it/s]\n",
      "100%|██████████| 100/100 [00:00<00:00, 844.81it/s]\n",
      "100%|██████████| 100/100 [00:00<00:00, 910.64it/s]\n",
      "100%|██████████| 100/100 [00:00<00:00, 768.39it/s]\n",
      "100%|██████████| 100/100 [00:00<00:00, 808.47it/s]\n",
      "100%|██████████| 100/100 [00:00<00:00, 884.40it/s]\n",
      "100%|██████████| 100/100 [00:00<00:00, 578.63it/s]\n",
      "100%|██████████| 100/100 [00:00<00:00, 889.01it/s]\n",
      "100%|██████████| 100/100 [00:00<00:00, 815.91it/s]\n",
      "100%|██████████| 100/100 [00:00<00:00, 774.34it/s]\n",
      "100%|██████████| 100/100 [00:00<00:00, 686.74it/s]\n",
      "100%|██████████| 100/100 [00:00<00:00, 870.06it/s]\n",
      "100%|██████████| 100/100 [00:00<00:00, 830.76it/s]\n",
      "100%|██████████| 100/100 [00:00<00:00, 827.88it/s]\n",
      "100%|██████████| 100/100 [00:00<00:00, 738.17it/s]\n",
      "100%|██████████| 100/100 [00:00<00:00, 867.86it/s]\n",
      "100%|██████████| 100/100 [00:00<00:00, 802.37it/s]\n",
      "100%|██████████| 100/100 [00:00<00:00, 857.61it/s]\n",
      "100%|██████████| 100/100 [00:00<00:00, 930.84it/s]\n",
      "100%|██████████| 100/100 [00:00<00:00, 918.99it/s]\n",
      "100%|██████████| 100/100 [00:00<00:00, 953.88it/s]\n",
      "100%|██████████| 100/100 [00:00<00:00, 911.47it/s]\n",
      "100%|██████████| 100/100 [00:00<00:00, 883.84it/s]\n",
      "100%|██████████| 100/100 [00:00<00:00, 767.09it/s]\n",
      "100%|██████████| 100/100 [00:00<00:00, 487.13it/s]\n",
      "100%|██████████| 100/100 [00:00<00:00, 870.95it/s]\n",
      "100%|██████████| 100/100 [00:00<00:00, 870.40it/s]\n",
      "100%|██████████| 100/100 [00:00<00:00, 873.24it/s]\n",
      "100%|██████████| 100/100 [00:00<00:00, 870.13it/s]\n",
      "100%|██████████| 100/100 [00:00<00:00, 908.31it/s]\n",
      "100%|██████████| 100/100 [00:00<00:00, 768.90it/s]\n",
      "100%|██████████| 100/100 [00:00<00:00, 820.51it/s]\n",
      "100%|██████████| 100/100 [00:00<00:00, 778.94it/s]\n",
      "100%|██████████| 100/100 [00:00<00:00, 841.44it/s]\n",
      "100%|██████████| 100/100 [00:00<00:00, 909.18it/s]\n",
      "100%|██████████| 100/100 [00:00<00:00, 825.53it/s]\n",
      "100%|██████████| 100/100 [00:00<00:00, 850.16it/s]\n",
      "100%|██████████| 100/100 [00:00<00:00, 868.66it/s]\n"
     ]
    }
   ],
   "source": [
    "max_iterations=100\n",
    "alpha=0.0001 #step size\n",
    "# lamda=50     #lambda\n",
    "g_k=[]\n",
    "mse_list2 = []\n",
    "\n",
    "for lmb in lambda_reg:\n",
    "    #initialize x: x_0=0\n",
    "    x_k=np.zeros((2000,1))\n",
    "    for i in tqdm(range(max_iterations)):\n",
    "        x_k-=alpha*delta_f(x_k) #step update for f(x)\n",
    "        x_k=STO(x_k,lmb,alpha) #soft thresholding\n",
    "    mse_list2.append(np.mean((x_star-x_k)**2))"
   ]
  },
  {
   "cell_type": "code",
   "execution_count": 68,
   "metadata": {},
   "outputs": [
    {
     "data": {
      "text/plain": [
       "[<matplotlib.lines.Line2D at 0x21d415afed0>]"
      ]
     },
     "execution_count": 68,
     "metadata": {},
     "output_type": "execute_result"
    },
    {
     "data": {
      "image/png": "[encoded data removed]",
      "text/plain": [
       "<Figure size 640x480 with 1 Axes>"
      ]
     },
     "metadata": {},
     "output_type": "display_data"
    }
   ],
   "source": [
    "plt.plot(lambda_reg,mse_list2)"
   ]
  }
 ],
 "metadata": {
  "kernelspec": {
   "display_name": "Python 3",
   "language": "python",
   "name": "python3"
  },
  "language_info": {
   "codemirror_mode": {
    "name": "ipython",
    "version": 3
   },
   "file_extension": ".py",
   "mimetype": "text/x-python",
   "name": "python",
   "nbconvert_exporter": "python",
   "pygments_lexer": "ipython3",
   "version": "3.11.2"
  }
 },
 "nbformat": 4,
 "nbformat_minor": 2
}
