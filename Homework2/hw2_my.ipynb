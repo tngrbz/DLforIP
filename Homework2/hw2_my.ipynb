{
 "cells": [
  {
   "cell_type": "code",
   "execution_count": 2,
   "metadata": {},
   "outputs": [],
   "source": [
    "import numpy as np\n",
    "np.random.seed(10)"
   ]
  },
  {
   "cell_type": "code",
   "execution_count": null,
   "metadata": {},
   "outputs": [],
   "source": [
    "class ISTA():\n",
    "    \n",
    "    def __init__(self, lambd=0.1, eta=0.1, tol=1e-5, max_iter=3000):\n",
    "        self.A = np.random.randn(2000,1000)\n",
    "        x = np.random.randn(1000,1)\n",
    "        \n",
    "        # x has to be 100 sparse\n",
    "        index_array = np.random.randint(0,1000,(100,)) # Choose 100 random indeces from 0 - 1000\n",
    "        mask_array = np.zeros((1000,1), dtype=bool) # Convert it to bool\n",
    "        mask_array[index_array] = True\n",
    "        x[~mask_array] = 0 # Change the not picked ones to zero.\n",
    "        self.x_star = x # assigned to another value for debugging.\n",
    "        \n",
    "        e = np.random.randn(2000,1) * np.sqrt(0.1)\n",
    "        self.y = self.A@x + e\n",
    "        self.lambd = lambd # Random\n",
    "        # self.eta = eta\n",
    "        # https://nikopj.github.io/blog/understanding-ista/, mentions learning rate is 1/squared greates singular value\n",
    "        _, S, _ = np.linalg.svd(self.A)\n",
    "        self.eta = 1/(S[0]**2)\n",
    "        self.tol = tol\n",
    "        self.max_iter = max_iter\n",
    "        self.cost_list = []\n",
    "        \n",
    "    def l1_cost(self, x):\n",
    "        return 1/2 * np.sum((self.A@x - self.y) **2) + self.lambd*np.sum(x)\n",
    "        \n",
    "    def comp_grad_f(self, x):\n",
    "        grad_f = self.A.T@self.A@x - self.A.T@self.y\n",
    "        return grad_f\n",
    "    \n",
    "    def grad_descent(self):\n",
    "        x_0 = np.zeros_like(self.x_star)\n",
    "        i=1\n",
    "        while np.any(np.abs(x_0 - self.x_star) > self.tol):\n",
    "            print(i)\n",
    "            grad = self.comp_grad_f(x_0)\n",
    "            inner_term = x_0 - self.eta * grad\n",
    "            \n",
    "            # Mask1 for case1\n",
    "            mask1 = inner_term < -self.lambd*self.eta\n",
    "            # Mask 3 for case3\n",
    "            mask3 = inner_term > self.lambd*self.eta\n",
    "            # Mask 2 for case2\n",
    "            mask2 = np.logical_and(inner_term >= -self.lambd, inner_term <= self.lambd)\n",
    "            \n",
    "            x_0[mask1] =  inner_term[mask1] + self.lambd*self.eta\n",
    "            x_0[mask3] =  inner_term[mask3] - self.lambd*self.eta\n",
    "            x_0[mask2] =  0\n",
    "            self.cost_list.append(self.l1_cost(x_0))\n",
    "            \n",
    "            i += 1\n",
    "            if i>self.max_iter:\n",
    "                break\n",
    "        return x_0\n",
    "        \n",
    "        "
   ]
  },
  {
   "cell_type": "code",
   "execution_count": null,
   "metadata": {},
   "outputs": [],
   "source": [
    "inst = ISTA(lambd=0.01, eta=0.01, tol=1e-1, max_iter=50)\n",
    "x_hat = inst.grad_descent()"
   ]
  },
  {
   "cell_type": "code",
   "execution_count": null,
   "metadata": {},
   "outputs": [],
   "source": [
    "inst.cost_list"
   ]
  },
  {
   "cell_type": "code",
   "execution_count": null,
   "metadata": {},
   "outputs": [],
   "source": [
    "opt_cost = inst.l1_cost(inst.x_star)\n",
    "opt_cost"
   ]
  },
  {
   "cell_type": "code",
   "execution_count": null,
   "metadata": {},
   "outputs": [],
   "source": [
    "import matplotlib.pyplot as plt\n",
    "\n",
    "fig, axs = plt.subplots(1,1)\n",
    "iter = np.arange(1,len(inst.cost_list)+1)\n",
    "opt_cost1 = np.ones_like(iter) * opt_cost\n",
    "axs.plot(iter ,opt_cost1, label='Optimal Cost')\n",
    "axs.plot(iter, inst.cost_list, label='True Total Cost')\n",
    "axs.set_xlabel('Cost')\n",
    "axs.set_ylabel('Iterations')\n",
    "axs.legend()"
   ]
  },
  {
   "cell_type": "markdown",
   "metadata": {},
   "source": [
    "Implementation Part B"
   ]
  },
  {
   "cell_type": "code",
   "execution_count": 7,
   "metadata": {},
   "outputs": [],
   "source": [
    "class ISTA():\n",
    "    \n",
    "    def __init__(self, k=100, lambd=0.01, eta=0.1, tol=1e-1, max_iter=3000):\n",
    "        self.A = np.random.randn(500,2000)\n",
    "        x = np.random.randn(2000,1)\n",
    "        \n",
    "        # x has to be 100 sparse\n",
    "        index_array = np.random.randint(0,2000,(k,)) # Choose k random indeces from 0 - 1000\n",
    "        mask_array = np.zeros((2000,1), dtype=bool) # Convert it to bool\n",
    "        mask_array[index_array] = True\n",
    "        x[~mask_array] = 0 # Change the not picked ones to zero.\n",
    "        self.x_star = x # assigned to another value for debugging.\n",
    "        \n",
    "        e = np.random.randn(500,1) * np.sqrt(0.1)\n",
    "        self.y = self.A@x + e\n",
    "        self.lambd = lambd # Random\n",
    "        # self.eta = eta\n",
    "        # https://nikopj.github.io/blog/understanding-ista/, mentions learning rate is 1/squared greates singular value\n",
    "        _, S, _ = np.linalg.svd(self.A)\n",
    "        self.eta = 1/(S[0]**2)\n",
    "        self.tol = tol\n",
    "        self.max_iter = max_iter\n",
    "        self.cost_list = []\n",
    "        \n",
    "    def l1_cost(self, x):\n",
    "        return 1/2 * np.sum((self.A@x - self.y) **2) + self.lambd*np.sum(x)\n",
    "        \n",
    "    def comp_grad_f(self, x):\n",
    "        grad_f = self.A.T@self.A@x - self.A.T@self.y\n",
    "        return grad_f\n",
    "    \n",
    "    def grad_descent(self):\n",
    "        x_0 = np.zeros_like(self.x_star)\n",
    "        i=1\n",
    "        while np.any(np.abs(x_0 - self.x_star) > self.tol):\n",
    "            grad = self.comp_grad_f(x_0)\n",
    "            inner_term = x_0 - self.eta * grad\n",
    "            \n",
    "            # Mask1 for case1\n",
    "            mask1 = inner_term < -self.lambd*self.eta\n",
    "            # Mask 3 for case3\n",
    "            mask3 = inner_term > self.lambd*self.eta\n",
    "            # Mask 2 for case2\n",
    "            mask2 = np.logical_and(inner_term >= -self.lambd, inner_term <= self.lambd)\n",
    "            \n",
    "            x_0[mask1] =  inner_term[mask1] + self.lambd*self.eta\n",
    "            x_0[mask3] =  inner_term[mask3] - self.lambd*self.eta\n",
    "            x_0[mask2] =  0\n",
    "            self.cost_list.append(self.l1_cost(x_0))\n",
    "            \n",
    "            i += 1\n",
    "            if i>self.max_iter:\n",
    "                break\n",
    "        return x_0"
   ]
  },
  {
   "cell_type": "code",
   "execution_count": 8,
   "metadata": {},
   "outputs": [],
   "source": [
    "list_of_totalcosts = []\n",
    "list_of_optimalcosts = []\n",
    "x_list = []\n",
    "for k in range(1, 501, 20):\n",
    "    inst = ISTA(k=k, max_iter=50, lambd=0.01)\n",
    "    x_hat = inst.grad_descent()\n",
    "    list_of_totalcosts.append(inst.cost_list[-1])\n",
    "    list_of_optimalcosts.append(inst.l1_cost(inst.x_star))\n",
    "    x_list.append((x_hat, inst.x_star))"
   ]
  },
  {
   "cell_type": "code",
   "execution_count": 10,
   "metadata": {},
   "outputs": [
    {
     "data": {
      "text/plain": [
       "[16.60017927352707,\n",
       " 0.13662495577908634,\n",
       " 0.1259281106042307,\n",
       " 0.11809317428048846,\n",
       " 0.068408856483757,\n",
       " 0.06723731982752039,\n",
       " 0.06636550641590118,\n",
       " 0.0604480516534292,\n",
       " 0.14298196875007058,\n",
       " -0.015412691214834365,\n",
       " -0.015799871659540075,\n",
       " 0.07592811063295785,\n",
       " 0.04754079044655997,\n",
       " 0.029659857126101842,\n",
       " -0.016905597322215263,\n",
       " -0.20348758471307354,\n",
       " 0.0991487687295658,\n",
       " 0.09739922474117133,\n",
       " 0.030351841407853186,\n",
       " -0.022119806468097983,\n",
       " 0.18119092764351055,\n",
       " 0.10203229195305227,\n",
       " 0.22106429006744857,\n",
       " 0.11768891723936697,\n",
       " 0.07710159156536794]"
      ]
     },
     "execution_count": 10,
     "metadata": {},
     "output_type": "execute_result"
    }
   ],
   "source": [
    "list_of_totalcosts"
   ]
  },
  {
   "cell_type": "code",
   "execution_count": 12,
   "metadata": {},
   "outputs": [
    {
     "data": {
      "text/plain": [
       "[22.759143576487038,\n",
       " 26.75359034781411,\n",
       " 23.99888897901533,\n",
       " 25.783203349245042,\n",
       " 27.046234728955756,\n",
       " 26.888330330345777,\n",
       " 26.679408449689355,\n",
       " 23.715174599749584,\n",
       " 24.433105569559956,\n",
       " 26.292283004167636,\n",
       " 26.328442564235964,\n",
       " 23.707579026037475,\n",
       " 21.957587327966436,\n",
       " 23.434920286742965,\n",
       " 25.219744437086323,\n",
       " 27.986799377884577,\n",
       " 24.432137931275555,\n",
       " 22.5070578615791,\n",
       " 26.618551773882608,\n",
       " 25.431267184215603,\n",
       " 26.31692912410514,\n",
       " 24.922729470307786,\n",
       " 25.694162677113468,\n",
       " 23.988841549144194,\n",
       " 24.221161604348303]"
      ]
     },
     "execution_count": 12,
     "metadata": {},
     "output_type": "execute_result"
    }
   ],
   "source": [
    "list_of_optimalcosts"
   ]
  },
  {
   "cell_type": "code",
   "execution_count": 15,
   "metadata": {},
   "outputs": [
    {
     "data": {
      "text/plain": [
       "<matplotlib.legend.Legend at 0x1df30497c10>"
      ]
     },
     "execution_count": 15,
     "metadata": {},
     "output_type": "execute_result"
    },
    {
     "data": {
      "image/png": "[encoded data removed]",
      "text/plain": [
       "<Figure size 640x480 with 1 Axes>"
      ]
     },
     "metadata": {},
     "output_type": "display_data"
    }
   ],
   "source": [
    "import matplotlib.pyplot as plt\n",
    "\n",
    "fig, axs = plt.subplots(1,1)\n",
    "iter = np.arange(1,501,20)\n",
    "\n",
    "cost_diff = [np.sum(np.abs(x[0]-x[1])) for x in x_list]\n",
    "axs.plot(iter,cost_diff, label='||x_hat - x*||_2')\n",
    "axs.set_xlabel('Optimal and Real x Difference')\n",
    "axs.set_ylabel('k')\n",
    "axs.legend()"
   ]
  }
 ],
 "metadata": {
  "kernelspec": {
   "display_name": "Python 3",
   "language": "python",
   "name": "python3"
  },
  "language_info": {
   "codemirror_mode": {
    "name": "ipython",
    "version": 3
   },
   "file_extension": ".py",
   "mimetype": "text/x-python",
   "name": "python",
   "nbconvert_exporter": "python",
   "pygments_lexer": "ipython3",
   "version": "3.11.2"
  }
 },
 "nbformat": 4,
 "nbformat_minor": 2
}
